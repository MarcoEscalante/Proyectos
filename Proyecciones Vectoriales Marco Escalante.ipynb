{
 "cells": [
  {
   "cell_type": "markdown",
   "metadata": {},
   "source": [
    "~~~\n",
    "Ciencia de Datos en Python\n",
    "~~~\n",
    "~~~\n",
    "Marco Vinicio Escalante Lara\n",
    "~~~\n",
    "~~~\n",
    "Carnet: 19001148\n",
    "~~~\n",
    "\n",
    "# PROYECCIÓN VECTORIAL\n",
    "\n",
    "## ¿Qué es una proyección vectorial?\n",
    "\n",
    "\n",
    "Es una operación entre dos vectores, que consiste en proyectar (Superponer) un vector sobre otro, este tipo de proyecciones no es posible si los vectores son perpendiculares. Esta operaciòn entre los vectores tiene como resultado un valor puntual.\n",
    "\n",
    "## Definir una unfuc para calcular proyecciòn vectorial sobre vectores en Numpy\n",
    "\n",
    "La proyecciòn vectorial se denomina al producto punto o producto escalar y la formula para el mismo que se puede usar en Numpy es:"
   ]
  },
  {
   "cell_type": "code",
   "execution_count": 1,
   "metadata": {},
   "outputs": [],
   "source": [
    "import numpy as np"
   ]
  },
  {
   "cell_type": "code",
   "execution_count": 3,
   "metadata": {},
   "outputs": [],
   "source": [
    "def producto(a,b):\n",
    "    return np.dot(a, b)"
   ]
  },
  {
   "cell_type": "markdown",
   "metadata": {},
   "source": [
    "## ¿Como interpretamos la proyección vectoria?\n",
    "\n",
    "Como la proyecciòn de un vector (cuanto espacio ocupa) al estar sobre otro vector, en palabras coloquiales cual seria la sombra de un vector dado sobre otro.\n",
    "\n",
    "## Usando la funciòn del punto anterior calcular para vectores de ejemplo \n"
   ]
  },
  {
   "cell_type": "code",
   "execution_count": 5,
   "metadata": {},
   "outputs": [
    {
     "data": {
      "text/plain": [
       "39"
      ]
     },
     "execution_count": 5,
     "metadata": {},
     "output_type": "execute_result"
    }
   ],
   "source": [
    "x = np.array([3, 4])\n",
    "y = np.array([5, 6])\n",
    "producto (x,y)\n",
    "\n",
    "# Muestra que el vector \"x\" produce una proyecciòn (sombra) sobre el vector \"y\" con una dimensiòn de 39"
   ]
  },
  {
   "cell_type": "code",
   "execution_count": 7,
   "metadata": {},
   "outputs": [
    {
     "data": {
      "text/plain": [
       "0"
      ]
     },
     "execution_count": 7,
     "metadata": {},
     "output_type": "execute_result"
    }
   ],
   "source": [
    "x = np.array([3, 0])\n",
    "y = np.array([0, 5])\n",
    "producto (x,y)\n",
    "\n",
    "# Muestra que el vector \"x\" NO produce una proyecciòn (sombra) sobre el vector \"y\" con una dimensiòn ya que son perpendiculares"
   ]
  },
  {
   "cell_type": "markdown",
   "metadata": {},
   "source": [
    "## Aplicación en ciencia de datos: En redes Neuronales para Deep learning. \n",
    "\n",
    "Ya que la estructura del modelo consiste en una sucesión de proyecciones vectoriales entre variables de entradas valuadas en una función escalar."
   ]
  }
 ],
 "metadata": {
  "kernelspec": {
   "display_name": "Python 3",
   "language": "python",
   "name": "python3"
  },
  "language_info": {
   "codemirror_mode": {
    "name": "ipython",
    "version": 3
   },
   "file_extension": ".py",
   "mimetype": "text/x-python",
   "name": "python",
   "nbconvert_exporter": "python",
   "pygments_lexer": "ipython3",
   "version": "3.7.1"
  }
 },
 "nbformat": 4,
 "nbformat_minor": 2
}
