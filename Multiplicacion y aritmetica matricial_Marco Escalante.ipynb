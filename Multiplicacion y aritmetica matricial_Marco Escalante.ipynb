{
 "cells": [
  {
   "cell_type": "markdown",
   "metadata": {},
   "source": [
    "28/03/2019\n",
    "\n",
    "**Universidad Galileo**\n",
    "\n",
    "Ciencia de Datos en Python\n",
    "\n",
    "**Nombre:** Marco Vinicio Escalante Lara\n",
    "\n",
    "**Carnet:** 19001148\n",
    "\n",
    "## Ejercicio practico: multiplicacion y aritmetica matricial"
   ]
  },
  {
   "cell_type": "code",
   "execution_count": 1,
   "metadata": {},
   "outputs": [],
   "source": [
    "import numpy as np"
   ]
  },
  {
   "cell_type": "markdown",
   "metadata": {},
   "source": [
    "### Función de Bellman"
   ]
  },
  {
   "cell_type": "code",
   "execution_count": 2,
   "metadata": {},
   "outputs": [
    {
     "data": {
      "text/plain": [
       "array([10.,  2.,  5.])"
      ]
     },
     "execution_count": 2,
     "metadata": {},
     "output_type": "execute_result"
    }
   ],
   "source": [
    "V = np.array([0,0,0]) # valor inicial de V(s)\n",
    "R = np.array([10,2,5]) # vector de recompensas\n",
    "P = np.array([[0.5,0.25,0.25],\n",
    "              [0.2,0.40,0.40],\n",
    "              [0.80,0.10,0.10]])  # matriz de transición\n",
    "gamma = 0.99\n",
    "def funcion_bellman(V):\n",
    "    V= R + gamma*np.matmul(V,P)\n",
    "    return V\n",
    "\n",
    "funcion_bellman(V)"
   ]
  },
  {
   "cell_type": "markdown",
   "metadata": {},
   "source": [
    "### Red Neuronal No. 1\n",
    "\n",
    "Red neuronal utilizando en la capa intermedia y de salida la función sigmoidal"
   ]
  },
  {
   "cell_type": "code",
   "execution_count": 3,
   "metadata": {},
   "outputs": [],
   "source": [
    "def sigmoid(x): #convertir los valores de x al rango de 0 a 1\n",
    "    \n",
    "    return 1/(1+np.exp(-x))"
   ]
  },
  {
   "cell_type": "code",
   "execution_count": 4,
   "metadata": {},
   "outputs": [
    {
     "data": {
      "text/plain": [
       "array([[0.70244573],\n",
       "       [0.66259284],\n",
       "       [0.75933678],\n",
       "       [0.75973948],\n",
       "       [0.75802295],\n",
       "       [0.6739704 ],\n",
       "       [0.75954693],\n",
       "       [0.76005845],\n",
       "       [0.75952743],\n",
       "       [0.76005845]])"
      ]
     },
     "execution_count": 4,
     "metadata": {},
     "output_type": "execute_result"
    }
   ],
   "source": [
    "X = np.array([1, 1])\n",
    "\n",
    "def red_neuronal(X):\n",
    "    HL_W1 = np.array([[0.712, 0.355, 0.268], \n",
    "                      [0.112, 0.855, 0.468]])\n",
    "    OL_W1 = np.array([[0.116],\n",
    "                      [0.329], \n",
    "                      [0.708]])\n",
    "    H1 = np.matmul(X,HL_W1)\n",
    "    H1 = sigmoid(H1)\n",
    "    OL = np.matmul(H1, OL_W1)\n",
    "    return sigmoid(OL)\n",
    "    \n",
    "\n",
    "X = np.array([\n",
    "    [0.1,2],\n",
    "    [0.3,0.45],\n",
    "    [5,9],\n",
    "    [12,6],\n",
    "    [7,5],\n",
    "    [0.3,0.8],\n",
    "    [12,5],\n",
    "    [100,200],\n",
    "    [7,8],\n",
    "    [300,1500]])\n",
    "\n",
    "red_neuronal(X)"
   ]
  },
  {
   "cell_type": "markdown",
   "metadata": {},
   "source": [
    "### Red Neuronal No. 2 (Final)\n",
    "\n",
    "Red neuronal utilizando en la capa intermedia la función sigmoidal y en la salida la función propuesta."
   ]
  },
  {
   "cell_type": "code",
   "execution_count": 5,
   "metadata": {},
   "outputs": [
    {
     "data": {
      "text/plain": [
       "array([[0.85897151],\n",
       "       [0.6748703 ],\n",
       "       [1.14904686],\n",
       "       [1.15125178],\n",
       "       [1.14187076],\n",
       "       [0.72619803],\n",
       "       [1.15019715],\n",
       "       [1.153     ],\n",
       "       [1.1500904 ],\n",
       "       [1.153     ]])"
      ]
     },
     "execution_count": 5,
     "metadata": {},
     "output_type": "execute_result"
    }
   ],
   "source": [
    "def red_neuronal2(X):\n",
    "    HL_W1 = np.array([[0.712, 0.355, 0.268], \n",
    "                      [0.112, 0.855, 0.468]])\n",
    "    OL_W1 = np.array([[0.116],\n",
    "                      [0.329], \n",
    "                      [0.708]])\n",
    "    H1 = np.matmul(X,HL_W1)\n",
    "    H1 = sigmoid(H1)\n",
    "    OL = np.matmul(H1, OL_W1)\n",
    "    return np.maximum(OL, 0)\n",
    "    \n",
    "\n",
    "X = np.array([\n",
    "    [0.1,2],\n",
    "    [0.3,0.45],\n",
    "    [5,9],\n",
    "    [12,6],\n",
    "    [7,5],\n",
    "    [0.3,0.8],\n",
    "    [12,5],\n",
    "    [100,200],\n",
    "    [7,8],\n",
    "    [300,1500]])\n",
    "\n",
    "red_neuronal2(X)"
   ]
  }
 ],
 "metadata": {
  "kernelspec": {
   "display_name": "Python 3",
   "language": "python",
   "name": "python3"
  },
  "language_info": {
   "codemirror_mode": {
    "name": "ipython",
    "version": 3
   },
   "file_extension": ".py",
   "mimetype": "text/x-python",
   "name": "python",
   "nbconvert_exporter": "python",
   "pygments_lexer": "ipython3",
   "version": "3.7.1"
  }
 },
 "nbformat": 4,
 "nbformat_minor": 2
}
