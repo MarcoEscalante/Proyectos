{
 "cells": [
  {
   "cell_type": "markdown",
   "metadata": {},
   "source": [
    "~~~\n",
    "Ciencia de Datos en Python\n",
    "~~~\n",
    "~~~\n",
    "Marco Vinicio Escalante Lara\n",
    "~~~\n",
    "~~~\n",
    "Carnet: 19001148\n",
    "~~~\n",
    "\n",
    "# DEFINICIONES\n",
    "\n",
    "## Funciones en Python\n",
    "\n",
    "\n",
    "Una función en python es un bloque de código con un nombre asociado, este funciona como las funciones en matemáticas, la cual tiene dominio y rango. El bloque puede recibir algún o ningún elemento de entrada. Sigue una secuencia de sentencias, de las cuales se ejecuta una operación deseada y devuelve un valor o tarea, este bloque pude ser llamado las veces necesarias. \n",
    "\n"
   ]
  },
  {
   "cell_type": "code",
   "execution_count": 4,
   "metadata": {},
   "outputs": [],
   "source": [
    "# Ejemplo de función\n",
    "def uno(x):\n",
    "    s = \"Hola\" if (x == 1) else \"Mundo\"\n",
    "    return s"
   ]
  },
  {
   "cell_type": "markdown",
   "metadata": {},
   "source": [
    "## Parámetros posicionales\n",
    "\n",
    "Cuando una función recibe argumentos externos para llevar a cabo sus proceso, se envian los mismos a una función, estos se reciben por orden en los parámetros definidos. Se dice por tanto que son argumentos por posición, es decir de acuerdo a la forma como se colocaron así seran recibidos, es decir por defecto, el programa no reconoce cual es cual, solo asigna como pusimos la función."
   ]
  },
  {
   "cell_type": "code",
   "execution_count": 2,
   "metadata": {},
   "outputs": [],
   "source": [
    "def dos(x, y):\n",
    "    return y"
   ]
  },
  {
   "cell_type": "markdown",
   "metadata": {},
   "source": [
    "## Parámetros nombrados\n",
    "\n",
    "Son los nombres de variables que listamos en las funciones y que de una forma u otra empleamos directamente en el interior de la misma. En Python, los argumentos se pasan siempre por asignación, es decir, el argumento es asignado al nombre de parámetro correspondiente en el momento de la llamada. Se utiliza para cambiar el orden de entrada de los parametros que tiene la función, pero tenemos que definirlos explisitamente."
   ]
  },
  {
   "cell_type": "code",
   "execution_count": 3,
   "metadata": {},
   "outputs": [
    {
     "data": {
      "text/plain": [
       "2"
      ]
     },
     "execution_count": 3,
     "metadata": {},
     "output_type": "execute_result"
    }
   ],
   "source": [
    "dos(y=2, x =5)"
   ]
  },
  {
   "cell_type": "markdown",
   "metadata": {},
   "source": [
    "## Retorno de múltiples valores\n",
    "\n",
    "Como se definio una función puede tener ninguna, una o más de una salida, el retorno de múltiples valores hace referencia a que con nuestras funciones en phyton podemos tener más de un elemento de salida al correr la misma."
   ]
  },
  {
   "cell_type": "code",
   "execution_count": 7,
   "metadata": {},
   "outputs": [
    {
     "data": {
      "text/plain": [
       "(4, 15)"
      ]
     },
     "execution_count": 7,
     "metadata": {},
     "output_type": "execute_result"
    }
   ],
   "source": [
    "def tres(x, y):\n",
    "    a = 2*x\n",
    "    b = 5*y\n",
    "    return (a, b)\n",
    "\n",
    "tres(2,3)"
   ]
  },
  {
   "cell_type": "markdown",
   "metadata": {},
   "source": [
    "## Función como objetos  y como parámetros de otras funciones\n",
    "\n",
    "Se define como la posibilidad de utilizar una función dentro de otra función, para poder obtener un resultado final."
   ]
  },
  {
   "cell_type": "code",
   "execution_count": 10,
   "metadata": {},
   "outputs": [
    {
     "data": {
      "text/plain": [
       "'Mundo'"
      ]
     },
     "execution_count": 10,
     "metadata": {},
     "output_type": "execute_result"
    }
   ],
   "source": [
    "def cuatro(uno, x):\n",
    "    return uno(x)\n",
    "\n",
    "cuatro(uno, 2)"
   ]
  },
  {
   "cell_type": "markdown",
   "metadata": {},
   "source": [
    "## Funciones anónimas o lambda \n",
    "\n",
    "Son funciones que no son definidas por la sintaxis \"def\", sino que se definen con la sintaxis \"lambda\". Son utilizadas para realizar pruebas y son simples de colocar. Son mas límitadas con respecto a las funciones formales."
   ]
  },
  {
   "cell_type": "code",
   "execution_count": 12,
   "metadata": {},
   "outputs": [
    {
     "data": {
      "text/plain": [
       "5"
      ]
     },
     "execution_count": 12,
     "metadata": {},
     "output_type": "execute_result"
    }
   ],
   "source": [
    "cinco = lambda x,y :x + y\n",
    "\n",
    "cinco(2,3)"
   ]
  }
 ],
 "metadata": {
  "kernelspec": {
   "display_name": "Python 3",
   "language": "python",
   "name": "python3"
  },
  "language_info": {
   "codemirror_mode": {
    "name": "ipython",
    "version": 3
   },
   "file_extension": ".py",
   "mimetype": "text/x-python",
   "name": "python",
   "nbconvert_exporter": "python",
   "pygments_lexer": "ipython3",
   "version": "3.7.1"
  }
 },
 "nbformat": 4,
 "nbformat_minor": 2
}
