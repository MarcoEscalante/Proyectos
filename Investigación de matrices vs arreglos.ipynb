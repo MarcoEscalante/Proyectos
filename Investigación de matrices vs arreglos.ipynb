{
 "cells": [
  {
   "cell_type": "markdown",
   "metadata": {},
   "source": [
    "Ciencia de Datos en Python\n",
    "\n",
    "Universidad Galileo\n",
    "\n",
    "Nombre: Marco Vinicio Escalante Lara\n",
    "\n",
    "Carnet: **19001148**\n"
   ]
  },
  {
   "cell_type": "markdown",
   "metadata": {},
   "source": [
    "# Investigación: np.matrix vs np.ndarray"
   ]
  },
  {
   "cell_type": "markdown",
   "metadata": {},
   "source": [
    "Las matrices en Numpy son bidimensionales (2 dimensiones), mientras que los arrays son de N dimensiones.\n",
    "\n",
    "Esto quiere decir que las matrices están contenidas en los arreglos, y una matriz no es nada más que un arreglo de dos dimensiones, la matriz toma los atributos y metodos de los arreglos. Sin embargo al ser la matriz muy utilizada se añadieron otras operaciones especificas a la misma que permiten facilitar la operación al usuario final."
   ]
  },
  {
   "cell_type": "code",
   "execution_count": 2,
   "metadata": {},
   "outputs": [],
   "source": [
    "import numpy as np"
   ]
  },
  {
   "cell_type": "markdown",
   "metadata": {},
   "source": [
    "# Principales diferencias\n",
    "\n",
    "La principal diferencia entre los arreglos y las matrices radica en la multiplicación, permitiendo una notación que facilita la multiplicación de dos matrices.\n",
    "\n",
    "Para multiplicar dos matrices A y B tenemos que utilizar el operador *\"*\"* para ejecutar la misma, esto quiere decir que la multiplicación quedaria como A * B. Ver ejemplo:"
   ]
  },
  {
   "cell_type": "code",
   "execution_count": 19,
   "metadata": {},
   "outputs": [
    {
     "name": "stdout",
     "output_type": "stream",
     "text": [
      "[[1 5]\n",
      " [1 8]]\n",
      "[[5 2]\n",
      " [4 7]]\n",
      "La multiplicación de la matriz A por la matriz B es:\n",
      "[[25 37]\n",
      " [37 58]]\n"
     ]
    }
   ],
   "source": [
    "A=np.mat('1 5; 1 8') # Matriz A\n",
    "B=np.mat('5 2; 4 7') # Matriz B\n",
    "\n",
    "print(A)\n",
    "print(B)\n",
    "\n",
    "print(\"La multiplicación de la matriz A por la matriz B es:\")\n",
    "print(A*B)"
   ]
  },
  {
   "cell_type": "markdown",
   "metadata": {},
   "source": [
    "Para multiplicar dos arreglos A y B, no es igual que matrices usando el operador *\"*\"* sino que hay que utilizar el operador \"@\", esto a partir de Pyton 3.5. Ver ejemplo:"
   ]
  },
  {
   "cell_type": "code",
   "execution_count": 20,
   "metadata": {},
   "outputs": [
    {
     "name": "stdout",
     "output_type": "stream",
     "text": [
      "[[1 5]\n",
      " [1 8]]\n",
      "[[5 2]\n",
      " [4 7]]\n",
      "Si uno utiliza la notación de matriz *, se obtiene el siguiente resultado:\n",
      "[[ 5 10]\n",
      " [ 4 56]]\n",
      "La multiplicación de la matriz A por la matriz B es:\n",
      "[[25 37]\n",
      " [37 58]]\n"
     ]
    }
   ],
   "source": [
    "A1 = np.array([[1, 5], [1, 8]])\n",
    "B1 = np.array([[5, 2], [4, 7]])\n",
    "\n",
    "\n",
    "print(A1)\n",
    "print(B1)\n",
    "\n",
    "print(\"Si uno utiliza la notación de matriz *, se obtiene el siguiente resultado:\")\n",
    "print(A1*B1)\n",
    "\n",
    "print(\"La multiplicación de la matriz A por la matriz B es:\")\n",
    "print(A1 @ B1)"
   ]
  },
  {
   "cell_type": "markdown",
   "metadata": {},
   "source": [
    "Como se puede apreciar en el ejemplo, si uno utiliza la misma notación de multiplicación en matrices A1 * B1, el resultado que se obtiene es multiplicar ambas matrices elemento por elemento, mientras que si se utiliza A1 @ B1, el resultado es el mismo que utilizando matrices."
   ]
  },
  {
   "cell_type": "markdown",
   "metadata": {},
   "source": [
    "Utilizando operadores **:\n",
    "\n",
    "Al realizar la operación \"A ** 2\" en matrices devuleve la multiplicación de la matriz A por la matriz A, mientras que con los arreglos la operación \"A1 ** 2\" devuleve cada elemento de la matriz elevado al cuadrado, como se puede apreciar en los siguientes ejemplos: "
   ]
  },
  {
   "cell_type": "code",
   "execution_count": 21,
   "metadata": {},
   "outputs": [
    {
     "name": "stdout",
     "output_type": "stream",
     "text": [
      "Matriz A:\n",
      "[[1 5]\n",
      " [1 8]]\n",
      "Arreglo A:\n",
      "[[1 5]\n",
      " [1 8]]\n",
      "Resultado de A**2, para matriz:\n",
      "[[ 6 45]\n",
      " [ 9 69]]\n",
      "Resultado de A1**2, para arreglo:\n",
      "[[ 1 25]\n",
      " [ 1 64]]\n"
     ]
    }
   ],
   "source": [
    "print(\"Matriz A:\")\n",
    "print(A)\n",
    "\n",
    "print(\"Arreglo A:\")\n",
    "print(A1)\n",
    "\n",
    "print(\"Resultado de A**2, para matriz:\")\n",
    "print(A**2)\n",
    "\n",
    "print(\"Resultado de A1**2, para arreglo:\")\n",
    "print(A1**2)"
   ]
  },
  {
   "cell_type": "markdown",
   "metadata": {},
   "source": [
    "Propiedades Especificas de matrices:\n",
    "\n",
    "Entre las propiedades especificas de las matrices se encuentran:\n",
    "1. Poder determinar la matriz identidad, identificada por la letra I.\n",
    "2. El resto de operaciones que se utilizan en matrices tales como la transpuesta, multiplicación de escalares, suma de las mismas, se operan identicamente."
   ]
  },
  {
   "cell_type": "markdown",
   "metadata": {},
   "source": [
    "## Conclusión\n",
    "\n",
    "Para fines practicas, si solo trabajaremos con dos dimensiones es recomendable utilizar matrices, sin embargo si ya vamos a trabajar con más dimensiones no se puede utilizar matrices si no que arreglos."
   ]
  }
 ],
 "metadata": {
  "kernelspec": {
   "display_name": "Python 3",
   "language": "python",
   "name": "python3"
  },
  "language_info": {
   "codemirror_mode": {
    "name": "ipython",
    "version": 3
   },
   "file_extension": ".py",
   "mimetype": "text/x-python",
   "name": "python",
   "nbconvert_exporter": "python",
   "pygments_lexer": "ipython3",
   "version": "3.7.1"
  }
 },
 "nbformat": 4,
 "nbformat_minor": 2
}
